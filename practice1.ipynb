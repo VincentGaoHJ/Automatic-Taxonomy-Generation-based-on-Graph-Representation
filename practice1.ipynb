{
  "nbformat": 4,
  "nbformat_minor": 0,
  "metadata": {
    "kernelspec": {
      "display_name": "Python 3",
      "language": "python",
      "name": "python3"
    },
    "language_info": {
      "codemirror_mode": {
        "name": "ipython",
        "version": 3
      },
      "file_extension": ".py",
      "mimetype": "text/x-python",
      "name": "python",
      "nbconvert_exporter": "python",
      "pygments_lexer": "ipython3",
      "version": "3.7.3"
    },
    "colab": {
      "name": "practice1.ipynb",
      "provenance": [],
      "collapsed_sections": [],
      "toc_visible": true,
      "include_colab_link": true
    }
  },
  "cells": [
    {
      "cell_type": "markdown",
      "metadata": {
        "id": "view-in-github",
        "colab_type": "text"
      },
      "source": [
        "<a href=\"https://colab.research.google.com/github/VincentGaoHJ/Automatic-Taxonomy-Generation-based-on-Graph-Representation/blob/master/practice1.ipynb\" target=\"_parent\"><img src=\"https://colab.research.google.com/assets/colab-badge.svg\" alt=\"Open In Colab\"/></a>"
      ]
    },
    {
      "cell_type": "markdown",
      "metadata": {
        "id": "VWY48OqAk8PT"
      },
      "source": [
        "## Practice 1: PYTHON 1"
      ]
    },
    {
      "cell_type": "markdown",
      "metadata": {
        "id": "5BSHzb5jlUHT"
      },
      "source": [
        "Use Jupyter Notebook, Google Colaboratory, or your program of choice to answer the following questions using Python code."
      ]
    },
    {
      "cell_type": "markdown",
      "metadata": {
        "id": "G1g4ugP89VRR"
      },
      "source": [
        "Question 1"
      ]
    },
    {
      "cell_type": "code",
      "metadata": {
        "id": "iNDlX-nS9VRW"
      },
      "source": [
        "# Calculate how much money you would have if you compounded $100 at 10% for 8 years"
      ],
      "execution_count": null,
      "outputs": []
    },
    {
      "cell_type": "code",
      "metadata": {
        "colab": {
          "base_uri": "https://localhost:8080/"
        },
        "id": "X33gzQFE9VRW",
        "outputId": "f006f81a-d1e5-4599-80d4-369c0e73d91b"
      },
      "source": [
        ""
      ],
      "execution_count": null,
      "outputs": [
        {
          "output_type": "stream",
          "text": [
            "214.35888100000017\n"
          ],
          "name": "stdout"
        }
      ]
    },
    {
      "cell_type": "markdown",
      "metadata": {
        "id": "AwC8bLO29VRX"
      },
      "source": [
        "Question 2"
      ]
    },
    {
      "cell_type": "code",
      "metadata": {
        "id": "M8RlNjjj9VRY"
      },
      "source": [
        "# Create a variable called “days”. Assign the value “7” to this variable. "
      ],
      "execution_count": null,
      "outputs": []
    },
    {
      "cell_type": "code",
      "metadata": {
        "id": "YMc5k_GB9VRY"
      },
      "source": [
        ""
      ],
      "execution_count": null,
      "outputs": []
    },
    {
      "cell_type": "code",
      "metadata": {
        "colab": {
          "base_uri": "https://localhost:8080/",
          "height": 232
        },
        "id": "DpwZured9VRY",
        "outputId": "561bd1f7-73aa-48f4-b99f-ab0f2f4aab48"
      },
      "source": [
        "# Try to execute the following code \n",
        "\n",
        "print(\"There are \" + days + \" days in a week\")\n",
        "\n",
        "# Rewrite the code to avoid the error"
      ],
      "execution_count": null,
      "outputs": [
        {
          "output_type": "error",
          "ename": "TypeError",
          "evalue": "ignored",
          "traceback": [
            "\u001b[0;31m---------------------------------------------------------------------------\u001b[0m",
            "\u001b[0;31mTypeError\u001b[0m                                 Traceback (most recent call last)",
            "\u001b[0;32m<ipython-input-6-2dabe37ad710>\u001b[0m in \u001b[0;36m<module>\u001b[0;34m()\u001b[0m\n\u001b[1;32m      1\u001b[0m \u001b[0;31m# Try to execute the following code\u001b[0m\u001b[0;34m\u001b[0m\u001b[0;34m\u001b[0m\u001b[0;34m\u001b[0m\u001b[0m\n\u001b[1;32m      2\u001b[0m \u001b[0;34m\u001b[0m\u001b[0m\n\u001b[0;32m----> 3\u001b[0;31m \u001b[0mprint\u001b[0m\u001b[0;34m(\u001b[0m\u001b[0;34m\"There are \"\u001b[0m \u001b[0;34m+\u001b[0m \u001b[0mdays\u001b[0m \u001b[0;34m+\u001b[0m \u001b[0;34m\" days in a week\"\u001b[0m\u001b[0;34m)\u001b[0m\u001b[0;34m\u001b[0m\u001b[0;34m\u001b[0m\u001b[0m\n\u001b[0m\u001b[1;32m      4\u001b[0m \u001b[0;34m\u001b[0m\u001b[0m\n\u001b[1;32m      5\u001b[0m \u001b[0;31m# Rewrite the code to avoid the error\u001b[0m\u001b[0;34m\u001b[0m\u001b[0;34m\u001b[0m\u001b[0;34m\u001b[0m\u001b[0m\n",
            "\u001b[0;31mTypeError\u001b[0m: must be str, not int"
          ]
        }
      ]
    },
    {
      "cell_type": "code",
      "metadata": {
        "colab": {
          "base_uri": "https://localhost:8080/"
        },
        "id": "k5UsnwG39VRY",
        "outputId": "15e835d1-408c-45de-da32-f965d1725cdf"
      },
      "source": [
        ""
      ],
      "execution_count": null,
      "outputs": [
        {
          "output_type": "stream",
          "text": [
            "There are 7 days in a week\n"
          ],
          "name": "stdout"
        }
      ]
    },
    {
      "cell_type": "markdown",
      "metadata": {
        "id": "4AyvmzIaltpb"
      },
      "source": [
        "There are 4 data types in the Python programming language. These data types let you group items into collections with specific properties (that you can then manipulate further later).\n",
        "- **Lists** are a collection which is ordered and changeable. Allows duplicate members.\n",
        "- **Dictionaries** are a collection which are unordered, changeable and indexed. No duplicate\n",
        "members.\n",
        "- **Tuples** are a collection which is ordered and unchangeable. Allows duplicate members.\n",
        "- **Sets** are a collection which is unordered and unindexed. No duplicate members."
      ]
    },
    {
      "cell_type": "markdown",
      "metadata": {
        "id": "YEmc3rxZ9VRZ"
      },
      "source": [
        "Question 3"
      ]
    },
    {
      "cell_type": "code",
      "metadata": {
        "id": "Mk7UGefK9VRZ"
      },
      "source": [
        "# Create a list with the following elements [“Tuesday”, “Wednesday”, “Thursday”, “Friday”,\n",
        "# “Saturday”, “Sunday”, 42]. Add the string ‘Someday’ into this list. \n",
        "\n",
        "# Add the variable ‘days’ that you previously created into this list"
      ],
      "execution_count": null,
      "outputs": []
    },
    {
      "cell_type": "code",
      "metadata": {
        "id": "CK1US2fs9VRZ"
      },
      "source": [
        "\n",
        "\n"
      ],
      "execution_count": null,
      "outputs": []
    },
    {
      "cell_type": "code",
      "metadata": {
        "colab": {
          "base_uri": "https://localhost:8080/"
        },
        "id": "GzZtNVk49VRa",
        "outputId": "00527cee-6610-4179-e22a-789a733909c6"
      },
      "source": [
        "list"
      ],
      "execution_count": null,
      "outputs": [
        {
          "output_type": "execute_result",
          "data": {
            "text/plain": [
              "['Tuesday',\n",
              " 'Wednesday',\n",
              " 'Thursday',\n",
              " 'Friday',\n",
              " 'Saturday',\n",
              " 'Sunday',\n",
              " 42,\n",
              " 'Someday',\n",
              " 7]"
            ]
          },
          "metadata": {
            "tags": []
          },
          "execution_count": 12
        }
      ]
    },
    {
      "cell_type": "code",
      "metadata": {
        "id": "DLknd_Ln9VRa"
      },
      "source": [
        "# Create a new variable called ‘sliced_list’, which only contain the first 8 elements of the \n",
        "# first list. Delete the integer ‘42’ from the list. Change the string ‘Someday’ to ‘Monday’"
      ],
      "execution_count": null,
      "outputs": []
    },
    {
      "cell_type": "code",
      "metadata": {
        "colab": {
          "base_uri": "https://localhost:8080/"
        },
        "id": "xtRDmxKn9VRa",
        "outputId": "f39362ad-8e1b-415b-c74c-a067101ca4d0"
      },
      "source": [
        "\n",
        "\n",
        "\n",
        "sliced_list"
      ],
      "execution_count": null,
      "outputs": [
        {
          "output_type": "execute_result",
          "data": {
            "text/plain": [
              "['Tuesday', 'Wednesday', 'Thursday', 'Friday', 'Saturday', 'Sunday', 'Monday']"
            ]
          },
          "metadata": {
            "tags": []
          },
          "execution_count": 14
        }
      ]
    },
    {
      "cell_type": "markdown",
      "metadata": {
        "id": "tkP_4xzY9VRa"
      },
      "source": [
        "Question 4"
      ]
    },
    {
      "cell_type": "code",
      "metadata": {
        "colab": {
          "base_uri": "https://localhost:8080/"
        },
        "id": "MycVW7Uu9VRb",
        "outputId": "626678e8-7b4d-4322-da10-8e40070f633d"
      },
      "source": [
        "# Create a dictionary with the following key:value pairs.\n",
        "# 'name':['john','mary','peter','jeff','bill','lisa','jose'],\n",
        "# 'age':[23,78,22,19,45,33,20],\n",
        "# 'gender':['M','F','M','M','M','F','M'],\n",
        "# 'State':['california','dc','california','dc','california','texas','texas'],\n",
        "# 'num_children':[2,0,0,3,2,1,4]\n",
        "\n",
        "\n",
        "\n",
        "\n",
        "\n",
        "\n",
        "\n",
        "\n",
        "\n",
        "dict"
      ],
      "execution_count": null,
      "outputs": [
        {
          "output_type": "execute_result",
          "data": {
            "text/plain": [
              "{'State': ['california',\n",
              "  'dc',\n",
              "  'california',\n",
              "  'dc',\n",
              "  'california',\n",
              "  'texas',\n",
              "  'texas'],\n",
              " 'age': [23, 78, 22, 19, 45, 33, 20],\n",
              " 'gender': ['M', 'F', 'M', 'M', 'M', 'F', 'M'],\n",
              " 'name': ['john', 'mary', 'peter', 'jeff', 'bill', 'lisa', 'jose'],\n",
              " 'num_children': [2, 0, 0, 3, 2, 1, 4]}"
            ]
          },
          "metadata": {
            "tags": []
          },
          "execution_count": 17
        }
      ]
    },
    {
      "cell_type": "code",
      "metadata": {
        "colab": {
          "base_uri": "https://localhost:8080/"
        },
        "id": "eRYIL6cu9VRb",
        "outputId": "eb300274-6876-4067-c056-8e10832acf59"
      },
      "source": [
        "# Add the following key:value pair to the dictionary.\n",
        "# 'num_pets':[5,1,0,5,2,2,3]\n",
        "\n",
        "\n",
        "\n",
        "dict"
      ],
      "execution_count": null,
      "outputs": [
        {
          "output_type": "execute_result",
          "data": {
            "text/plain": [
              "{'State': ['california',\n",
              "  'dc',\n",
              "  'california',\n",
              "  'dc',\n",
              "  'california',\n",
              "  'texas',\n",
              "  'texas'],\n",
              " 'age': [23, 78, 22, 19, 45, 33, 20],\n",
              " 'gender': ['M', 'F', 'M', 'M', 'M', 'F', 'M'],\n",
              " 'name': ['john', 'mary', 'peter', 'jeff', 'bill', 'lisa', 'jose'],\n",
              " 'num_children': [2, 0, 0, 3, 2, 1, 4],\n",
              " 'num_pets': [5, 1, 0, 5, 2, 2, 3]}"
            ]
          },
          "metadata": {
            "tags": []
          },
          "execution_count": 18
        }
      ]
    },
    {
      "cell_type": "markdown",
      "metadata": {
        "id": "QIfaC7FH9VRb"
      },
      "source": [
        "Question 5"
      ]
    },
    {
      "cell_type": "code",
      "metadata": {
        "id": "SpSta48y9VRb"
      },
      "source": [
        "# Import the pandas library as pd and the matplotlib.pylot library as plt. Convert the \n",
        "# dictionary above to a dataframe\n",
        "\n",
        "\n",
        "\n",
        "\n"
      ],
      "execution_count": null,
      "outputs": []
    },
    {
      "cell_type": "code",
      "metadata": {
        "colab": {
          "base_uri": "https://localhost:8080/",
          "height": 266
        },
        "id": "wQwnpU-W9VRc",
        "outputId": "9816454a-8d18-4b2c-c294-61bd7eb9f00c"
      },
      "source": [
        "df"
      ],
      "execution_count": null,
      "outputs": [
        {
          "output_type": "execute_result",
          "data": {
            "text/html": [
              "<div>\n",
              "<style scoped>\n",
              "    .dataframe tbody tr th:only-of-type {\n",
              "        vertical-align: middle;\n",
              "    }\n",
              "\n",
              "    .dataframe tbody tr th {\n",
              "        vertical-align: top;\n",
              "    }\n",
              "\n",
              "    .dataframe thead th {\n",
              "        text-align: right;\n",
              "    }\n",
              "</style>\n",
              "<table border=\"1\" class=\"dataframe\">\n",
              "  <thead>\n",
              "    <tr style=\"text-align: right;\">\n",
              "      <th></th>\n",
              "      <th>name</th>\n",
              "      <th>age</th>\n",
              "      <th>gender</th>\n",
              "      <th>State</th>\n",
              "      <th>num_children</th>\n",
              "      <th>num_pets</th>\n",
              "    </tr>\n",
              "  </thead>\n",
              "  <tbody>\n",
              "    <tr>\n",
              "      <th>0</th>\n",
              "      <td>john</td>\n",
              "      <td>23</td>\n",
              "      <td>M</td>\n",
              "      <td>california</td>\n",
              "      <td>2</td>\n",
              "      <td>5</td>\n",
              "    </tr>\n",
              "    <tr>\n",
              "      <th>1</th>\n",
              "      <td>mary</td>\n",
              "      <td>78</td>\n",
              "      <td>F</td>\n",
              "      <td>dc</td>\n",
              "      <td>0</td>\n",
              "      <td>1</td>\n",
              "    </tr>\n",
              "    <tr>\n",
              "      <th>2</th>\n",
              "      <td>peter</td>\n",
              "      <td>22</td>\n",
              "      <td>M</td>\n",
              "      <td>california</td>\n",
              "      <td>0</td>\n",
              "      <td>0</td>\n",
              "    </tr>\n",
              "    <tr>\n",
              "      <th>3</th>\n",
              "      <td>jeff</td>\n",
              "      <td>19</td>\n",
              "      <td>M</td>\n",
              "      <td>dc</td>\n",
              "      <td>3</td>\n",
              "      <td>5</td>\n",
              "    </tr>\n",
              "    <tr>\n",
              "      <th>4</th>\n",
              "      <td>bill</td>\n",
              "      <td>45</td>\n",
              "      <td>M</td>\n",
              "      <td>california</td>\n",
              "      <td>2</td>\n",
              "      <td>2</td>\n",
              "    </tr>\n",
              "    <tr>\n",
              "      <th>5</th>\n",
              "      <td>lisa</td>\n",
              "      <td>33</td>\n",
              "      <td>F</td>\n",
              "      <td>texas</td>\n",
              "      <td>1</td>\n",
              "      <td>2</td>\n",
              "    </tr>\n",
              "    <tr>\n",
              "      <th>6</th>\n",
              "      <td>jose</td>\n",
              "      <td>20</td>\n",
              "      <td>M</td>\n",
              "      <td>texas</td>\n",
              "      <td>4</td>\n",
              "      <td>3</td>\n",
              "    </tr>\n",
              "  </tbody>\n",
              "</table>\n",
              "</div>"
            ],
            "text/plain": [
              "    name  age gender       State  num_children  num_pets\n",
              "0   john   23      M  california             2         5\n",
              "1   mary   78      F          dc             0         1\n",
              "2  peter   22      M  california             0         0\n",
              "3   jeff   19      M          dc             3         5\n",
              "4   bill   45      M  california             2         2\n",
              "5   lisa   33      F       texas             1         2\n",
              "6   jose   20      M       texas             4         3"
            ]
          },
          "metadata": {
            "tags": []
          },
          "execution_count": 20
        }
      ]
    },
    {
      "cell_type": "markdown",
      "metadata": {
        "id": "Qi123IFqEZNj"
      },
      "source": [
        "Question 6"
      ]
    },
    {
      "cell_type": "code",
      "metadata": {
        "colab": {
          "base_uri": "https://localhost:8080/",
          "height": 297
        },
        "id": "Eb9NCxBq9VRc",
        "outputId": "b2259955-e600-4a2e-cc9a-df5608a3d736"
      },
      "source": [
        "# Plot a scatterplot of 'num_childern' against 'num_pets'\n",
        "\n"
      ],
      "execution_count": null,
      "outputs": [
        {
          "output_type": "execute_result",
          "data": {
            "text/plain": [
              "<matplotlib.axes._subplots.AxesSubplot at 0x7fd358bed358>"
            ]
          },
          "metadata": {
            "tags": []
          },
          "execution_count": 21
        },
        {
          "output_type": "display_data",
          "data": {
            "image/png": "[encoded data removed]",
            "text/plain": [
              "<Figure size 432x288 with 1 Axes>"
            ]
          },
          "metadata": {
            "tags": [],
            "needs_background": "light"
          }
        }
      ]
    },
    {
      "cell_type": "markdown",
      "metadata": {
        "id": "FaVGp8IYOEdT"
      },
      "source": [
        ""
      ]
    },
    {
      "cell_type": "markdown",
      "metadata": {
        "id": "RIUV8yWRFHpz"
      },
      "source": [
        "Question 7"
      ]
    },
    {
      "cell_type": "code",
      "metadata": {
        "id": "rRodth8O9VRc",
        "outputId": "4780fdcc-98be-4c97-ee46-fb39bd357997"
      },
      "source": [
        "# Plot a bar plot of 'name' against 'age'\n",
        "\n"
      ],
      "execution_count": null,
      "outputs": [
        {
          "output_type": "execute_result",
          "data": {
            "text/plain": [
              "<matplotlib.axes._subplots.AxesSubplot at 0x11bf469e8>"
            ]
          },
          "metadata": {
            "tags": []
          },
          "execution_count": 20
        },
        {
          "output_type": "display_data",
          "data": {
            "image/png": "[encoded data removed]",
            "text/plain": [
              "<Figure size 432x288 with 1 Axes>"
            ]
          },
          "metadata": {
            "tags": [],
            "needs_background": "light"
          }
        }
      ]
    },
    {
      "cell_type": "markdown",
      "metadata": {
        "id": "qDekKnK9FLz5"
      },
      "source": [
        "Question 8"
      ]
    },
    {
      "cell_type": "code",
      "metadata": {
        "id": "LavXP2C89VRc"
      },
      "source": [
        "# Create a list with the numbers 1 to 10. Write a program to loop through the numbers in \n",
        "# the list and print “odd” if the number is odd and “even” if the number is even."
      ],
      "execution_count": null,
      "outputs": []
    },
    {
      "cell_type": "code",
      "metadata": {
        "id": "C1cjmY8C9VRd",
        "outputId": "a6f250cb-1b13-48e7-eace-5d59c700b5cc"
      },
      "source": [
        ""
      ],
      "execution_count": null,
      "outputs": [
        {
          "output_type": "stream",
          "text": [
            "1 is odd\n",
            "2 is even\n",
            "3 is odd\n",
            "4 is even\n",
            "5 is odd\n",
            "6 is even\n",
            "7 is odd\n",
            "8 is even\n",
            "9 is odd\n",
            "10 is even\n"
          ],
          "name": "stdout"
        }
      ]
    },
    {
      "cell_type": "markdown",
      "metadata": {
        "id": "VHLUxv0PmN1W"
      },
      "source": [
        "## PYTHON 2"
      ]
    },
    {
      "cell_type": "markdown",
      "metadata": {
        "id": "VyhUjkoZmS_l"
      },
      "source": [
        "Third-Party Python Libraries\n",
        "\n",
        "a. NumPy (for low-level math operations)\n",
        "\n",
        "b. Pandas (for data loading and manipulation)\n",
        "\n",
        "c. Matplotlib and Seaborn (for data visualization)\n"
      ]
    },
    {
      "cell_type": "markdown",
      "metadata": {
        "id": "QRI37bXcvZKQ"
      },
      "source": [
        "### NumPy"
      ]
    },
    {
      "cell_type": "markdown",
      "metadata": {
        "id": "F8urzRM6o_N6"
      },
      "source": [
        "The purpose of this tutorial is to familiarize with NumPy array creation, its operations like slicing, indexing, transposing and some important mathematical functions.\n",
        "\n",
        "- NumPy is an N-dimensional array type called ndarray.\n",
        "\n",
        "- It describes the collection of items of the same type. Each element in ndarray is\n",
        "an object of data-type object (called dtype)\n",
        "\n",
        "- Images are loaded into NumPy array\n",
        "\n",
        "**1. Create a 1-D NumPy array ‘A’, from list [5 8 10 5 4 3 2 1], check its parameters (ndim, shape, itemsize, dtype)**\n"
      ]
    },
    {
      "cell_type": "code",
      "metadata": {
        "colab": {
          "base_uri": "https://localhost:8080/",
          "height": 34
        },
        "id": "2YjtIZL0JVNt",
        "outputId": "b8eb86a4-8f17-48c3-fd33-c95a1562a031"
      },
      "source": [
        "\n",
        "\n",
        "\n"
      ],
      "execution_count": null,
      "outputs": [
        {
          "output_type": "stream",
          "text": [
            "ndim = 1, shape = (8,), itemsize = 8, dtype = int64\n"
          ],
          "name": "stdout"
        }
      ]
    },
    {
      "cell_type": "markdown",
      "metadata": {
        "id": "gif0QjwmKxMW"
      },
      "source": [
        "**2. Create a 2-D NumPy array ‘B’. Check its parameters \n",
        " B = [[ True False]\n",
        "      [False  True]]**\n"
      ]
    },
    {
      "cell_type": "code",
      "metadata": {
        "colab": {
          "base_uri": "https://localhost:8080/",
          "height": 34
        },
        "id": "4usqGh-0J7lr",
        "outputId": "b7bfa033-5401-4e0a-c2e4-c50cbcd0a02e"
      },
      "source": [
        "\n"
      ],
      "execution_count": null,
      "outputs": [
        {
          "output_type": "stream",
          "text": [
            "ndim = 2, shape = (2, 2), itemsize = 1, dtype = bool\n"
          ],
          "name": "stdout"
        }
      ]
    },
    {
      "cell_type": "markdown",
      "metadata": {
        "id": "uwIkhZxJLQ6p"
      },
      "source": [
        "**3.  Create a 1-D NumPy array ‘C’ of size 1 * 4,  consisting of all ones i.e. \n",
        "        C = [1. 1. 1. 1.]**\n"
      ]
    },
    {
      "cell_type": "code",
      "metadata": {
        "colab": {
          "base_uri": "https://localhost:8080/",
          "height": 34
        },
        "id": "5CRVt_k1K54Q",
        "outputId": "63ba3d9c-d980-476f-b723-23178bd9fbd8"
      },
      "source": [
        "\n"
      ],
      "execution_count": null,
      "outputs": [
        {
          "output_type": "stream",
          "text": [
            "[[1. 1. 1. 1.]]\n"
          ],
          "name": "stdout"
        }
      ]
    },
    {
      "cell_type": "markdown",
      "metadata": {
        "id": "1ibs4LgRLGg7"
      },
      "source": [
        "**4.  Create a 2-D NumPy array,‘D’ of size 5 * 4, consisting of number from   \n",
        "     0,1,2,3,4….20**\n",
        "     \n",
        "     D =  \n",
        "            [[ 0  1  2  3]\n",
        "             [ 4  5  6  7]\n",
        "             [ 8  9 10 11]\n",
        "             [12 13 14 15]\n",
        "             [16 17 18 19]]"
      ]
    },
    {
      "cell_type": "code",
      "metadata": {
        "colab": {
          "base_uri": "https://localhost:8080/",
          "height": 102
        },
        "id": "-kb7x8kPLgwD",
        "outputId": "cfd52114-e735-4d41-cf18-fddf5ddafa4a"
      },
      "source": [
        "D = np.\n"
      ],
      "execution_count": null,
      "outputs": [
        {
          "output_type": "stream",
          "text": [
            "[[ 0  1  2  3]\n",
            " [ 4  5  6  7]\n",
            " [ 8  9 10 11]\n",
            " [12 13 14 15]\n",
            " [16 17 18 19]]\n"
          ],
          "name": "stdout"
        }
      ]
    },
    {
      "cell_type": "markdown",
      "metadata": {
        "id": "h_10eDwhLZdc"
      },
      "source": [
        "**5.  Add array ‘C’ to array ‘D’. (You will be doing broadcasting!!)**\n"
      ]
    },
    {
      "cell_type": "code",
      "metadata": {
        "colab": {
          "base_uri": "https://localhost:8080/",
          "height": 102
        },
        "id": "Vy_3cDDSLvOK",
        "outputId": "ef0455d2-8183-46f8-f9a5-d041fd7d38c3"
      },
      "source": [
        ""
      ],
      "execution_count": null,
      "outputs": [
        {
          "output_type": "stream",
          "text": [
            "[[ 1.  2.  3.  4.]\n",
            " [ 5.  6.  7.  8.]\n",
            " [ 9. 10. 11. 12.]\n",
            " [13. 14. 15. 16.]\n",
            " [17. 18. 19. 20.]]\n"
          ],
          "name": "stdout"
        }
      ]
    },
    {
      "cell_type": "markdown",
      "metadata": {
        "id": "d3ygbOhWLuCz"
      },
      "source": [
        "**6.  Transpose the 2-D array ‘D’**"
      ]
    },
    {
      "cell_type": "code",
      "metadata": {
        "colab": {
          "base_uri": "https://localhost:8080/",
          "height": 85
        },
        "id": "imVg9qYNL370",
        "outputId": "5eafb4c2-e9ea-42d2-e664-1545f6fbeb71"
      },
      "source": [
        ""
      ],
      "execution_count": null,
      "outputs": [
        {
          "output_type": "stream",
          "text": [
            "[[ 0  4  8 12 16]\n",
            " [ 1  5  9 13 17]\n",
            " [ 2  6 10 14 18]\n",
            " [ 3  7 11 15 19]]\n"
          ],
          "name": "stdout"
        }
      ]
    },
    {
      "cell_type": "markdown",
      "metadata": {
        "id": "_aHZo_YaL2Xo"
      },
      "source": [
        "**7.  From array ‘D’ use NumPy 2-D slicing to extract below slice\n",
        "        [[ 0  2  4]\n",
        "         [10 12 14]]**\n"
      ]
    },
    {
      "cell_type": "code",
      "metadata": {
        "colab": {
          "base_uri": "https://localhost:8080/",
          "height": 170
        },
        "id": "4buv1bSEMUzn",
        "outputId": "b5149bfe-d84a-4c00-e205-35159fc7ed5f"
      },
      "source": [
        "\n",
        "\n",
        "\n"
      ],
      "execution_count": null,
      "outputs": [
        {
          "output_type": "stream",
          "text": [
            "[[ 0  1  2  3  4]\n",
            " [ 5  6  7  8  9]\n",
            " [10 11 12 13 14]\n",
            " [15 16 17 18 19]]\n",
            "\n",
            "After slicing operator\n",
            "\n",
            "[[ 0  2  4]\n",
            " [10 12 14]]\n"
          ],
          "name": "stdout"
        }
      ]
    },
    {
      "cell_type": "markdown",
      "metadata": {
        "id": "SQtJJ9nbL8Yt"
      },
      "source": [
        "**8.  From array ‘D’ extract the corner elements using NumPy Indexing\n",
        "        [[ 0  4]\n",
        "         [15 19]]**"
      ]
    },
    {
      "cell_type": "code",
      "metadata": {
        "colab": {
          "base_uri": "https://localhost:8080/",
          "height": 85
        },
        "id": "bc8cqjjKNxnn",
        "outputId": "205c4eec-b2d8-4341-9fa4-37fe8abb03c9"
      },
      "source": [
        "\n",
        "\n",
        "\n"
      ],
      "execution_count": null,
      "outputs": [
        {
          "output_type": "stream",
          "text": [
            "\n",
            "The corner elements of this array are:    \n",
            " [[ 0  4]\n",
            " [15 19]]\n"
          ],
          "name": "stdout"
        }
      ]
    },
    {
      "cell_type": "markdown",
      "metadata": {
        "id": "bkRwSzqsNvXU"
      },
      "source": [
        "**9. Modify the ‘D’ array to make center elements 0 i.e.**\n",
        " \n",
        " D = \n",
        " \n",
        "          [[ 0  1  2  3  4]          \n",
        "           [ 5  0  0  0  9]\n",
        "           [10  0  0  0  14]\n",
        "           [15 16 17 18 19]]\n"
      ]
    },
    {
      "cell_type": "code",
      "metadata": {
        "colab": {
          "base_uri": "https://localhost:8080/",
          "height": 102
        },
        "id": "CfwSkCkZQQWZ",
        "outputId": "21ca71d2-c2ec-4f8d-fd79-0ee14a8f5263"
      },
      "source": [
        "\n"
      ],
      "execution_count": null,
      "outputs": [
        {
          "output_type": "stream",
          "text": [
            "Modified D = \n",
            " [[ 0  1  2  3  4]\n",
            " [ 5  0  0  0  9]\n",
            " [10  0  0  0 14]\n",
            " [15 16 17 18 19]]\n"
          ],
          "name": "stdout"
        }
      ]
    },
    {
      "cell_type": "markdown",
      "metadata": {
        "id": "G6MI-YvhQI_8"
      },
      "source": [
        "**10. Initialize a 4 * 5 numpy array ‘E’ with random numbers. Now find the maximum number in all columns and its position. Find the mean and std of the matrix. Now multiply the matrix ‘E’ and matrix ‘D’.**"
      ]
    },
    {
      "cell_type": "code",
      "metadata": {
        "colab": {
          "base_uri": "https://localhost:8080/",
          "height": 238
        },
        "id": "oVnrgMYVQkoQ",
        "outputId": "6d79728d-cc69-448f-9920-d5030a7866b9"
      },
      "source": [
        "\n",
        "\n",
        "\n",
        "\n"
      ],
      "execution_count": null,
      "outputs": [
        {
          "output_type": "stream",
          "text": [
            "\n",
            " Matrix E = \n",
            " [[ 7  2 15  9 27]\n",
            " [29  3  8 21 20]\n",
            " [14 21  4 27  8]\n",
            " [ 9 22 24 11 28]]\n",
            "\n",
            "Maximum of all columns = \n",
            " [29 22 24 27 28]\n",
            "\n",
            "Mean of all numbers =  15.45\n",
            "\n",
            "STD of all numbers =  8.83444961500149\n"
          ],
          "name": "stdout"
        }
      ]
    },
    {
      "cell_type": "markdown",
      "metadata": {
        "id": "Z2AYOTUXQiE6"
      },
      "source": [
        "**11. Load an image(sample.png provided) into numpy array. Commands to load an image to numpy array is ‘import cv2; img = cv2.imread('sample.jpg')’. Now extract a 100*100 matrix from the image and show it with matplotlib. Command to show an image:‘from matplotlib import pyplot as plt; plt.imshow(img)’**"
      ]
    },
    {
      "cell_type": "code",
      "metadata": {
        "id": "EBjrwCxk3eB1"
      },
      "source": [
        "!wget https://www.comp.nus.edu.sg/~kai422/CS5242/sample.jpg"
      ],
      "execution_count": null,
      "outputs": []
    },
    {
      "cell_type": "code",
      "metadata": {
        "colab": {
          "base_uri": "https://localhost:8080/",
          "height": 254
        },
        "id": "qHuhFsTEUfdh",
        "outputId": "f2dc59cd-a001-4818-a5a5-bb9ed6f4bced"
      },
      "source": [
        "\n",
        "\n",
        "\n",
        "\n",
        "\n",
        "\n",
        "\n",
        "\n",
        "\n",
        "\n",
        "\n",
        "\n",
        "\n",
        "\n",
        "\n"
      ],
      "execution_count": null,
      "outputs": [
        {
          "output_type": "stream",
          "text": [
            "Type of image =  <class 'numpy.ndarray'>\n",
            "Size of image =  (241, 320, 3)\n"
          ],
          "name": "stdout"
        },
        {
          "output_type": "execute_result",
          "data": {
            "text/plain": [
              "<matplotlib.image.AxesImage at 0x7fe21946f128>"
            ]
          },
          "metadata": {
            "tags": []
          },
          "execution_count": 41
        },
        {
          "output_type": "display_data",
          "data": {
            "image/png": "[encoded data removed]",
            "text/plain": [
              "<Figure size 432x288 with 2 Axes>"
            ]
          },
          "metadata": {
            "tags": [],
            "needs_background": "light"
          }
        }
      ]
    },
    {
      "cell_type": "markdown",
      "metadata": {
        "id": "FV09_vuQTmLU"
      },
      "source": [
        "### Pandas"
      ]
    },
    {
      "cell_type": "markdown",
      "metadata": {
        "id": "IpX5uwKVpHRC"
      },
      "source": [
        "- There are two central data structures of Pandas are Series and DataFrame\n",
        "\n",
        "- Foundation of a DataFrame is a Series. The docstring of DataFrame defines a\n",
        "DataFrame as “Can be thought of as a dict-like container for\n",
        "Series objects”\n",
        "\n",
        "- So what is a series? A Pandas series can be conceptualized in two ways.\n",
        "\n",
        "  - It can be envisioned as a single column of tabular data.\n",
        "\n",
        "  - It can also be envisioned as a single row of tabular data\n",
        "\n",
        "Let’s assume there is a database table called accounting which stores revenue and expenses across different years.\n",
        "\n",
        "| year | revenue | expense |\n",
        "| :--: | :-----: | :-----: |\n",
        "| 2017 | 1000    | 800     |\n",
        "| 2018 | 1200    | 900     |\n",
        "| 2019 | 1500    | 1100    |\n",
        "\n",
        "**1.Create the table above with Pandas dataframe object**"
      ]
    },
    {
      "cell_type": "code",
      "metadata": {
        "colab": {
          "base_uri": "https://localhost:8080/"
        },
        "id": "CfFquWEaVTA7",
        "outputId": "91f44eb5-af6f-42e6-ce09-a0a51c659316"
      },
      "source": [
        "\n",
        "\n",
        "\n",
        "\n",
        "\n",
        "\n",
        "\n"
      ],
      "execution_count": null,
      "outputs": [
        {
          "output_type": "stream",
          "text": [
            "   year  revenue  expense\n",
            "0  2017     1000      800\n",
            "1  2018     1200      900\n",
            "2  2019     1500     1100\n"
          ],
          "name": "stdout"
        }
      ]
    },
    {
      "cell_type": "markdown",
      "metadata": {
        "id": "qoJiToubTzxz"
      },
      "source": [
        "**2.Modify the above table to add  ‘savings’ and ‘persons’ as shown below.\n",
        "‘saving’ = ‘revenue’ - ‘expenses’**\n"
      ]
    },
    {
      "cell_type": "code",
      "metadata": {
        "colab": {
          "base_uri": "https://localhost:8080/"
        },
        "id": "zYOQcI_zV6HD",
        "outputId": "e092075f-06e4-48c8-f1dd-5b2ee7eb0a91"
      },
      "source": [
        "\n",
        "\n",
        "\n"
      ],
      "execution_count": null,
      "outputs": [
        {
          "output_type": "stream",
          "text": [
            "\n",
            "New modified data table:\n",
            "    year  revenue  expense  savings persons\n",
            "0  2017     1000      800      200     abc\n",
            "1  2018     1200      900      300     def\n",
            "2  2019     1500     1100      400     ghi\n"
          ],
          "name": "stdout"
        }
      ]
    },
    {
      "cell_type": "markdown",
      "metadata": {
        "id": "9_LTzfEbUUiA"
      },
      "source": [
        "**3.Load a CSV file (tips.csv provided) to load a CSV file into a pandas dataframe.\n",
        "Now display .head() of dataframe. Then display .description() of dataframe. Name this dataframe as ‘tips_table’. Sample .head() of tips table.**\n"
      ]
    },
    {
      "cell_type": "code",
      "metadata": {
        "id": "2vkgUkq-CG7j"
      },
      "source": [
        "!wget https://www.comp.nus.edu.sg/~kai422/CS5242/tips.csv"
      ],
      "execution_count": null,
      "outputs": []
    },
    {
      "cell_type": "code",
      "metadata": {
        "colab": {
          "base_uri": "https://localhost:8080/",
          "height": 204
        },
        "id": "BN779NqALA01",
        "outputId": "89015b5f-5de8-4b84-eea1-b9f4b7df8de9"
      },
      "source": [
        "\n"
      ],
      "execution_count": null,
      "outputs": [
        {
          "output_type": "execute_result",
          "data": {
            "text/html": [
              "<div>\n",
              "<style scoped>\n",
              "    .dataframe tbody tr th:only-of-type {\n",
              "        vertical-align: middle;\n",
              "    }\n",
              "\n",
              "    .dataframe tbody tr th {\n",
              "        vertical-align: top;\n",
              "    }\n",
              "\n",
              "    .dataframe thead th {\n",
              "        text-align: right;\n",
              "    }\n",
              "</style>\n",
              "<table border=\"1\" class=\"dataframe\">\n",
              "  <thead>\n",
              "    <tr style=\"text-align: right;\">\n",
              "      <th></th>\n",
              "      <th>total_bill</th>\n",
              "      <th>tip</th>\n",
              "      <th>sex</th>\n",
              "      <th>smoker</th>\n",
              "      <th>day</th>\n",
              "      <th>time</th>\n",
              "      <th>size</th>\n",
              "    </tr>\n",
              "  </thead>\n",
              "  <tbody>\n",
              "    <tr>\n",
              "      <th>0</th>\n",
              "      <td>16.99</td>\n",
              "      <td>1.01</td>\n",
              "      <td>Female</td>\n",
              "      <td>No</td>\n",
              "      <td>Sun</td>\n",
              "      <td>Dinner</td>\n",
              "      <td>2</td>\n",
              "    </tr>\n",
              "    <tr>\n",
              "      <th>1</th>\n",
              "      <td>10.34</td>\n",
              "      <td>1.66</td>\n",
              "      <td>Male</td>\n",
              "      <td>No</td>\n",
              "      <td>Sun</td>\n",
              "      <td>Dinner</td>\n",
              "      <td>3</td>\n",
              "    </tr>\n",
              "    <tr>\n",
              "      <th>2</th>\n",
              "      <td>21.01</td>\n",
              "      <td>3.50</td>\n",
              "      <td>Male</td>\n",
              "      <td>No</td>\n",
              "      <td>Sun</td>\n",
              "      <td>Dinner</td>\n",
              "      <td>3</td>\n",
              "    </tr>\n",
              "    <tr>\n",
              "      <th>3</th>\n",
              "      <td>23.68</td>\n",
              "      <td>3.31</td>\n",
              "      <td>Male</td>\n",
              "      <td>No</td>\n",
              "      <td>Sun</td>\n",
              "      <td>Dinner</td>\n",
              "      <td>2</td>\n",
              "    </tr>\n",
              "    <tr>\n",
              "      <th>4</th>\n",
              "      <td>24.59</td>\n",
              "      <td>3.61</td>\n",
              "      <td>Female</td>\n",
              "      <td>No</td>\n",
              "      <td>Sun</td>\n",
              "      <td>Dinner</td>\n",
              "      <td>4</td>\n",
              "    </tr>\n",
              "  </tbody>\n",
              "</table>\n",
              "</div>"
            ],
            "text/plain": [
              "   total_bill   tip     sex smoker  day    time  size\n",
              "0       16.99  1.01  Female     No  Sun  Dinner     2\n",
              "1       10.34  1.66    Male     No  Sun  Dinner     3\n",
              "2       21.01  3.50    Male     No  Sun  Dinner     3\n",
              "3       23.68  3.31    Male     No  Sun  Dinner     2\n",
              "4       24.59  3.61  Female     No  Sun  Dinner     4"
            ]
          },
          "metadata": {
            "tags": []
          },
          "execution_count": 46
        }
      ]
    },
    {
      "cell_type": "markdown",
      "metadata": {
        "id": "0AyIlH4QwYX2"
      },
      "source": [
        "### MATPLOTLIB and SEABORN"
      ]
    },
    {
      "cell_type": "markdown",
      "metadata": {
        "id": "oIPgSZVhqhQ5"
      },
      "source": [
        "- Seaborn is built on top of Python’s core visualization library Matplotlib.\n",
        "\n",
        "- It is meant to serve as a complement, and not a replacement.\n",
        "\n",
        "- Seaborn works well with NumPy and Pandas data structures\n",
        "\n",
        "**Write a program to draw a scatter_plot with sb.scatterplot taking ‘total_bill’ as x-axis,‘tip’ as y-axis and hue as ‘time’**"
      ]
    },
    {
      "cell_type": "code",
      "metadata": {
        "colab": {
          "base_uri": "https://localhost:8080/",
          "height": 301
        },
        "id": "OkgwfofgUtnc",
        "outputId": "babc144e-97a0-478b-debe-dcc34aa8f46f"
      },
      "source": [
        "\n"
      ],
      "execution_count": null,
      "outputs": [
        {
          "output_type": "execute_result",
          "data": {
            "text/plain": [
              "<matplotlib.axes._subplots.AxesSubplot at 0x7f6fa05c3208>"
            ]
          },
          "metadata": {
            "tags": []
          },
          "execution_count": 49
        },
        {
          "output_type": "display_data",
          "data": {
            "image/png": "[encoded data removed]",
            "text/plain": [
              "<Figure size 432x288 with 1 Axes>"
            ]
          },
          "metadata": {
            "tags": []
          }
        }
      ]
    },
    {
      "cell_type": "markdown",
      "metadata": {
        "id": "VIMKTdliVMIL"
      },
      "source": [
        "**Write a program to plot a pie chart of given ‘days’ data in ‘tips_table’ table.**\n"
      ]
    },
    {
      "cell_type": "code",
      "metadata": {
        "colab": {
          "base_uri": "https://localhost:8080/",
          "height": 391
        },
        "id": "tSob3JtuU6Ti",
        "outputId": "784cf4c3-52fa-44ce-d003-29db65746b5c"
      },
      "source": [
        "\n",
        "\n"
      ],
      "execution_count": null,
      "outputs": [
        {
          "output_type": "execute_result",
          "data": {
            "text/plain": [
              "([<matplotlib.patches.Wedge at 0x7f6fa035abe0>,\n",
              "  <matplotlib.patches.Wedge at 0x7f6fa03660f0>,\n",
              "  <matplotlib.patches.Wedge at 0x7f6fa03665c0>,\n",
              "  <matplotlib.patches.Wedge at 0x7f6fa0366a90>],\n",
              " [Text(0.47909423581850485, 0.990186201280084, 'Sat'),\n",
              "  Text(-1.0967192869113325, -0.08489290734035711, 'Sun'),\n",
              "  Text(0.3074340394718734, -1.0561649072820052, 'Thur'),\n",
              "  Text(1.06724906774893, -0.2664196452760947, 'Fri')])"
            ]
          },
          "metadata": {
            "tags": []
          },
          "execution_count": 62
        },
        {
          "output_type": "display_data",
          "data": {
            "image/png": "[encoded data removed]",
            "text/plain": [
              "<Figure size 432x288 with 1 Axes>"
            ]
          },
          "metadata": {
            "tags": []
          }
        }
      ]
    },
    {
      "cell_type": "markdown",
      "metadata": {
        "id": "odQSOTmFX8OK"
      },
      "source": [
        "**Plot a bar plot with sb.barplot taking ‘sex’ in x-axis and ‘total_bill’ in y-axis**"
      ]
    },
    {
      "cell_type": "code",
      "metadata": {
        "colab": {
          "base_uri": "https://localhost:8080/",
          "height": 300
        },
        "id": "OqnUfnIoVX92",
        "outputId": "ed4c6303-cc4d-4e79-c357-0726a2895da4"
      },
      "source": [
        ""
      ],
      "execution_count": null,
      "outputs": [
        {
          "output_type": "execute_result",
          "data": {
            "text/plain": [
              "<matplotlib.axes._subplots.AxesSubplot at 0x7f6fa036e080>"
            ]
          },
          "metadata": {
            "tags": []
          },
          "execution_count": 63
        },
        {
          "output_type": "display_data",
          "data": {
            "image/png": "[encoded data removed]",
            "text/plain": [
              "<Figure size 432x288 with 1 Axes>"
            ]
          },
          "metadata": {
            "tags": []
          }
        }
      ]
    },
    {
      "cell_type": "markdown",
      "metadata": {
        "id": "FZCBQrDUYvaR"
      },
      "source": [
        "**Plot the univariate distribution of various data in the ‘tips_table’ table with sb.distplot.**"
      ]
    },
    {
      "cell_type": "code",
      "metadata": {
        "colab": {
          "base_uri": "https://localhost:8080/",
          "height": 301
        },
        "id": "NTEimxCqYIoc",
        "outputId": "34125cde-2d5b-4471-b0b8-5e5145a3ed55"
      },
      "source": [
        ""
      ],
      "execution_count": null,
      "outputs": [
        {
          "output_type": "execute_result",
          "data": {
            "text/plain": [
              "<matplotlib.axes._subplots.AxesSubplot at 0x7f6fa02a3b38>"
            ]
          },
          "metadata": {
            "tags": []
          },
          "execution_count": 67
        },
        {
          "output_type": "display_data",
          "data": {
            "image/png": "[encoded data removed]",
            "text/plain": [
              "<Figure size 432x288 with 1 Axes>"
            ]
          },
          "metadata": {
            "tags": []
          }
        }
      ]
    },
    {
      "cell_type": "markdown",
      "metadata": {
        "id": "PX8jRmaLYrGY"
      },
      "source": [
        "**Plot the bivariate  distribution of data ‘total_bill’ vs ‘tip’ with sb.jointplot()**"
      ]
    },
    {
      "cell_type": "code",
      "metadata": {
        "colab": {
          "base_uri": "https://localhost:8080/",
          "height": 458
        },
        "id": "SkRVTWC7YRgZ",
        "outputId": "94505407-43b7-4f4d-9257-a46d30fb7ba4"
      },
      "source": [
        ""
      ],
      "execution_count": null,
      "outputs": [
        {
          "output_type": "execute_result",
          "data": {
            "text/plain": [
              "<seaborn.axisgrid.JointGrid at 0x7f6fa0167b00>"
            ]
          },
          "metadata": {
            "tags": []
          },
          "execution_count": 69
        },
        {
          "output_type": "display_data",
          "data": {
            "image/png": "[encoded data removed]",
            "text/plain": [
              "<Figure size 432x432 with 3 Axes>"
            ]
          },
          "metadata": {
            "tags": []
          }
        }
      ]
    },
    {
      "cell_type": "markdown",
      "metadata": {
        "id": "tUizza6aZJQo"
      },
      "source": [
        "**To analyse relation between each and every data of the table to classify ‘time’ class try using\n",
        "sb.pairplot(tips_table, hue=’time’)**"
      ]
    },
    {
      "cell_type": "code",
      "metadata": {
        "colab": {
          "base_uri": "https://localhost:8080/",
          "height": 566
        },
        "id": "vA9BYM9aY-f3",
        "outputId": "faa40bc4-b026-436c-c37f-b4909a293012"
      },
      "source": [
        ""
      ],
      "execution_count": null,
      "outputs": [
        {
          "output_type": "execute_result",
          "data": {
            "text/plain": [
              "<seaborn.axisgrid.PairGrid at 0x7f6f9ffe4908>"
            ]
          },
          "metadata": {
            "tags": []
          },
          "execution_count": 70
        },
        {
          "output_type": "display_data",
          "data": {
            "image/png": "[encoded data removed]",
            "text/plain": [
              "<Figure size 609.625x540 with 12 Axes>"
            ]
          },
          "metadata": {
            "tags": []
          }
        }
      ]
    },
    {
      "cell_type": "markdown",
      "metadata": {
        "id": "6l6wFzfHZv0F"
      },
      "source": [
        "**To analyse the relation of categorical data try to plot using sb.stripplot with ‘day’ as x, and ‘total_bill’ as y**"
      ]
    },
    {
      "cell_type": "code",
      "metadata": {
        "colab": {
          "base_uri": "https://localhost:8080/",
          "height": 300
        },
        "id": "GXALrCGtZR11",
        "outputId": "c8d916ec-921c-461c-92a2-f83891bb9da5"
      },
      "source": [
        ""
      ],
      "execution_count": null,
      "outputs": [
        {
          "output_type": "execute_result",
          "data": {
            "text/plain": [
              "<matplotlib.axes._subplots.AxesSubplot at 0x7f6fab34c828>"
            ]
          },
          "metadata": {
            "tags": []
          },
          "execution_count": 72
        },
        {
          "output_type": "display_data",
          "data": {
            "image/png": "[encoded data removed]",
            "text/plain": [
              "<Figure size 432x288 with 1 Axes>"
            ]
          },
          "metadata": {
            "tags": []
          }
        }
      ]
    },
    {
      "cell_type": "markdown",
      "metadata": {
        "id": "NQPEquNwnR1_"
      },
      "source": [
        "## PYTORCH TENSORS"
      ]
    },
    {
      "cell_type": "markdown",
      "metadata": {
        "id": "lR05D7BXo9UV"
      },
      "source": [
        "WHAT IS PYTORCH?\n",
        "It’s a Python-based scientific computing package targeted at two sets of audiences:\n",
        "\n",
        "- A replacement for NumPy to use the power of GPUs\n",
        "- A deep learning research platform that provides maximum flexibility and speed\n",
        "\n",
        "**Tensors**\n",
        "Tensors are similar to NumPy’s ndarrays, with the addition being that Tensors can also be used on a GPU to accelerate computing.\n"
      ]
    },
    {
      "cell_type": "code",
      "metadata": {
        "id": "KuHI9cGDvNaP"
      },
      "source": [
        "# Run some setup code for this notebook.\n",
        "\n",
        "import random\n",
        "import numpy as np\n",
        "import matplotlib.pyplot as plt\n",
        "\n",
        "# This is a bit of magic to make matplotlib figures appear inline in the notebook\n",
        "# rather than in a new window.\n",
        "%matplotlib inline\n",
        "plt.rcParams['figure.figsize'] = (10.0, 8.0) # set default size of plots\n",
        "plt.rcParams['image.interpolation'] = 'nearest'\n",
        "plt.rcParams['image.cmap'] = 'gray'\n",
        "\n",
        "# Some more magic so that the notebook will reload external python modules;\n",
        "# see http://stackoverflow.com/questions/1907993/autoreload-of-modules-in-ipython\n",
        "%load_ext autoreload\n",
        "%autoreload 2\n",
        "import torch\n",
        "import torch.nn as nn"
      ],
      "execution_count": null,
      "outputs": []
    },
    {
      "cell_type": "markdown",
      "metadata": {
        "id": "eXVqMj2SUzA6"
      },
      "source": [
        "Q1. Create a tensor “a” initialized from the list [2, 5, 8, 9]. Now print attributes of tensor  “a” i.e shape, dtype, device. Convert it to Numpy array “e”. \n"
      ]
    },
    {
      "cell_type": "code",
      "metadata": {
        "id": "cLOvK7mapC0H",
        "colab": {
          "base_uri": "https://localhost:8080/",
          "height": 34
        },
        "outputId": "3e84434d-5075-4c18-bd49-fb02249a8e4a"
      },
      "source": [
        "\n",
        "\n"
      ],
      "execution_count": null,
      "outputs": [
        {
          "output_type": "stream",
          "text": [
            "tensor([2, 5, 8, 9])\n"
          ],
          "name": "stdout"
        }
      ]
    },
    {
      "cell_type": "code",
      "metadata": {
        "id": "mCLUVWarsxJa",
        "colab": {
          "base_uri": "https://localhost:8080/",
          "height": 118
        },
        "outputId": "8ee96324-3c9b-4e30-954c-557c3869558d"
      },
      "source": [
        "\n",
        "\n",
        "\n",
        "\n",
        "\n",
        "\n"
      ],
      "execution_count": null,
      "outputs": [
        {
          "output_type": "stream",
          "text": [
            "torch.Size([4])\n",
            "cpu\n",
            "torch.int64\n",
            "True\n",
            "None\n",
            "[2 5 8 9]\n"
          ],
          "name": "stdout"
        }
      ]
    },
    {
      "cell_type": "markdown",
      "metadata": {
        "id": "iUDKczOZVJbN"
      },
      "source": [
        "Q2. Create a tensor “b” of size 4 * 5 initialized with all 0’s. Add 2 to “b”. Create another tensor “c” of the exact same as “b” initialized with all ones. Now create tensor “d = b + c”."
      ]
    },
    {
      "cell_type": "code",
      "metadata": {
        "id": "Z1VS_ed6s8k7",
        "colab": {
          "base_uri": "https://localhost:8080/",
          "height": 118
        },
        "outputId": "a6e7f5d6-d3e8-413a-c52f-5db11f913a0c"
      },
      "source": [
        "\n",
        "\n",
        "\n",
        "\n"
      ],
      "execution_count": null,
      "outputs": [
        {
          "output_type": "stream",
          "text": [
            "Shape of b  torch.Size([4, 5])\n",
            "Priting actual b \n",
            " tensor([[2., 2., 2., 2., 2.],\n",
            "        [2., 2., 2., 2., 2.],\n",
            "        [2., 2., 2., 2., 2.],\n",
            "        [2., 2., 2., 2., 2.]])\n"
          ],
          "name": "stdout"
        }
      ]
    },
    {
      "cell_type": "code",
      "metadata": {
        "id": "artoyXDCuLIh",
        "colab": {
          "base_uri": "https://localhost:8080/",
          "height": 185
        },
        "outputId": "394b76c9-9ae2-4e0e-c9fd-851fc3216119"
      },
      "source": [
        "\n",
        "\n",
        "\n",
        "\n"
      ],
      "execution_count": null,
      "outputs": [
        {
          "output_type": "stream",
          "text": [
            "Print actual c \n",
            " tensor([[1., 1., 1., 1., 1.],\n",
            "        [1., 1., 1., 1., 1.],\n",
            "        [1., 1., 1., 1., 1.],\n",
            "        [1., 1., 1., 1., 1.]])\n",
            "Shape of d  torch.Size([4, 5]) Actual d = \n",
            " tensor([[3., 3., 3., 3., 3.],\n",
            "        [3., 3., 3., 3., 3.],\n",
            "        [3., 3., 3., 3., 3.],\n",
            "        [3., 3., 3., 3., 3.]])\n"
          ],
          "name": "stdout"
        }
      ]
    },
    {
      "cell_type": "markdown",
      "metadata": {
        "id": "pa2A2x8XVSa0"
      },
      "source": [
        "Q3. Create a Numpy array “f” of size 5 * 4 initialized with random numbers. Convert it to tensor “g”. Create “h” similar to “f” with random numbers. Transpose “h” and do matrix multiplication of “h” and “f”."
      ]
    },
    {
      "cell_type": "code",
      "metadata": {
        "id": "ZRv-YJcHqyv2",
        "colab": {
          "base_uri": "https://localhost:8080/",
          "height": 437
        },
        "outputId": "502de226-0d3f-42d1-a359-ce59cf774c4e"
      },
      "source": [
        "\n",
        "\n",
        "\n",
        "\n",
        "\n",
        "\n",
        "\n",
        "\n"
      ],
      "execution_count": null,
      "outputs": [
        {
          "output_type": "stream",
          "text": [
            "Shape of f =  (5, 4)\n",
            "Printing array f \n",
            " [[-0.86225964  0.06486497 -0.08476355  0.55424795]\n",
            " [ 0.57488359  0.14495959 -0.01857186 -0.85072029]\n",
            " [ 1.78760464 -0.21042985  0.96475554 -0.84507786]\n",
            " [ 0.13280316 -0.81215336  1.2172865   0.33932006]\n",
            " [-0.32553167 -0.37962753 -0.40602988  1.46597726]]\n",
            "Printing g \n",
            " tensor([[-0.8623,  0.0649, -0.0848,  0.5542],\n",
            "        [ 0.5749,  0.1450, -0.0186, -0.8507],\n",
            "        [ 1.7876, -0.2104,  0.9648, -0.8451],\n",
            "        [ 0.1328, -0.8122,  1.2173,  0.3393],\n",
            "        [-0.3255, -0.3796, -0.4060,  1.4660]], dtype=torch.float64)\n",
            "Printing h \n",
            " tensor([[ 1.7687, -0.6404,  0.1221, -1.5805],\n",
            "        [ 0.1045,  0.1007,  0.6056,  0.7037],\n",
            "        [ 1.5321,  1.2768, -1.3293,  0.6827],\n",
            "        [ 0.8419, -1.5858, -0.6984,  0.4831],\n",
            "        [ 0.5846,  0.3050, -0.7584,  0.4424]], dtype=torch.float64)\n",
            "Multiplying g and h \n",
            " tensor([[-2.4529,  0.2551, -0.7472, -0.5018, -0.1748],\n",
            "        [ 2.2662, -0.5352,  0.5098, -0.1439,  0.0180],\n",
            "        [ 4.7499,  0.1552,  0.6107,  0.7566, -0.1247],\n",
            "        [ 0.3674,  0.9081, -2.2199,  0.7135, -0.9431],\n",
            "        [-2.6992,  0.7135,  0.5571,  1.3198,  0.6504]], dtype=torch.float64)\n"
          ],
          "name": "stdout"
        }
      ]
    },
    {
      "cell_type": "markdown",
      "metadata": {
        "id": "3OGOS7DnzlT3"
      },
      "source": [
        "Q4. Deep Learning is based on artificial neural networks which are typically built with units called \"neurons”. Each neuron has some number of weighted inputs. These weighted inputs are summed together then passed through an activation function to get the unit's output.\n",
        "\t\n",
        "1. Define a 1-D tensor “X” containing numbers from 1 to 5.\n",
        "2. Define a 1-D tensor “W1” containing 5 random weights.\n",
        "3. Define a tensor “b” contained 1 random weight.\n",
        "4. Compute tensor “H = X * W1 + b” using pytorch. (Note the shape of tensors)\n",
        "5. Apply sigmoid activation function to calculate the “Y”, such that “Y = 1 / (1 + exp(-H))”\n",
        "\n"
      ]
    },
    {
      "cell_type": "code",
      "metadata": {
        "id": "oBCEPd-kuN7m",
        "colab": {
          "base_uri": "https://localhost:8080/",
          "height": 34
        },
        "outputId": "b04612f1-022e-44dd-b381-11a3c7c87584"
      },
      "source": [
        "a.to(torch.device('cpu:0'))"
      ],
      "execution_count": null,
      "outputs": [
        {
          "output_type": "execute_result",
          "data": {
            "text/plain": [
              "tensor([2, 5, 8, 9])"
            ]
          },
          "metadata": {
            "tags": []
          },
          "execution_count": 7
        }
      ]
    },
    {
      "cell_type": "code",
      "metadata": {
        "id": "2MSwTlOB7oub",
        "colab": {
          "base_uri": "https://localhost:8080/",
          "height": 101
        },
        "outputId": "49cd67a5-86f3-4776-c7b5-2d7aba4815de"
      },
      "source": [
        "\n",
        "\n",
        "\n",
        "\n",
        "\n",
        "\n",
        "\n"
      ],
      "execution_count": null,
      "outputs": [
        {
          "output_type": "stream",
          "text": [
            "Tensor X =  tensor([1., 2., 3., 4., 5.])\n",
            "Tensor W1 =  tensor([-0.6567,  1.1089, -2.1980,  1.3122, -0.7290])\n",
            "Tensor b =  tensor([0.7121])\n",
            "Tensor H =  tensor([-2.7172])\n",
            "Tensor Y =  tensor([0.0620])\n"
          ],
          "name": "stdout"
        }
      ]
    },
    {
      "cell_type": "markdown",
      "metadata": {
        "id": "4NeFRFfJtVAZ"
      },
      "source": [
        "**You have just coded to write a neuron !!**"
      ]
    },
    {
      "cell_type": "markdown",
      "metadata": {
        "id": "PZijA-qu8vqz"
      },
      "source": [
        "Q5. Adding multiple neurons in a single layer (3 Hidden Units)\n",
        "1. Define 2-D tensor “W2” containing random numbers of shape 5 * 3\n",
        "2. Define 1-D tensor of “b2” containing 3 random numbers.\n",
        "3. Compute tensor H2 = [h1 h2 h3] using the “H2 = X * W2 + b2” using pytorch\n",
        "4. Apply sigmoid activation function to calculate “Y2 = [y1 y2 y3]” such that “Y = 1 / (1 + exp(-H2)”\n"
      ]
    },
    {
      "cell_type": "code",
      "metadata": {
        "id": "xExsfWQQK6Yw",
        "colab": {
          "base_uri": "https://localhost:8080/",
          "height": 185
        },
        "outputId": "2379a471-e5bf-4534-e2a1-30afb0659c2a"
      },
      "source": [
        "\n",
        "\n",
        "\n",
        "\n",
        "\n",
        "\n"
      ],
      "execution_count": null,
      "outputs": [
        {
          "output_type": "stream",
          "text": [
            "W2 = \n",
            " tensor([[-1.2390,  0.2733,  0.4978],\n",
            "        [-1.4140, -0.5967,  1.9397],\n",
            "        [ 0.9528, -0.8102,  1.1685],\n",
            "        [ 1.0026,  0.9184, -1.2489],\n",
            "        [ 0.2120,  0.8592, -0.4685]])\n",
            "b2 = \n",
            " tensor([ 0.7799, -0.4821, -0.6722])\n",
            "Tensor H =  tensor([ 4.6419,  4.1368, -0.1276])\n",
            "Tensor Y =  tensor([0.9905, 0.9843, 0.4681])\n"
          ],
          "name": "stdout"
        }
      ]
    },
    {
      "cell_type": "markdown",
      "metadata": {
        "id": "HYNx84SOtd-b"
      },
      "source": [
        "**Now there are 3 neurons outputs!!**"
      ]
    },
    {
      "cell_type": "markdown",
      "metadata": {
        "id": "k9ZvEMtpL96g"
      },
      "source": [
        "Q6.  Stacking one neuron on top of others. The real power of a neural network comes when we apply one function on top of others. ( 3 output units)\n",
        "1. Define 2-D tensor “W21” containing random numbers of shape 3 * 3\n",
        "2. Define 1-D tensor “b3” containing 3 random number\n",
        "3. Compute “H3 = W21 * Y2 + b”. Compute the expected shape of H3.\n",
        "4. Apply softmax pytorch activation function to H3.\n"
      ]
    },
    {
      "cell_type": "code",
      "metadata": {
        "id": "CGHA1vkXMFGj",
        "colab": {
          "base_uri": "https://localhost:8080/",
          "height": 87
        },
        "outputId": "7b906112-4f85-4668-bc02-297419c6c9c9"
      },
      "source": [
        "\n",
        "\n",
        "\n",
        "\n",
        "\n",
        "\n"
      ],
      "execution_count": null,
      "outputs": [
        {
          "output_type": "stream",
          "text": [
            "Y3 obtained after softmax = tensor([0.1498, 0.6191, 0.2311])\n"
          ],
          "name": "stdout"
        },
        {
          "output_type": "stream",
          "text": [
            "/usr/local/lib/python3.6/dist-packages/ipykernel_launcher.py:8: UserWarning: Implicit dimension choice for softmax has been deprecated. Change the call to include dim=X as an argument.\n",
            "  \n"
          ],
          "name": "stderr"
        }
      ]
    },
    {
      "cell_type": "markdown",
      "metadata": {
        "id": "zjns7H0HBC59"
      },
      "source": [
        "**Now there are 3 neurons outputs!!**"
      ]
    }
  ]
}